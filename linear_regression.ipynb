{
 "cells": [
  {
   "cell_type": "code",
   "execution_count": 1,
   "metadata": {},
   "outputs": [],
   "source": [
    "import numpy as np"
   ]
  },
  {
   "cell_type": "code",
   "execution_count": 2,
   "metadata": {},
   "outputs": [],
   "source": [
    "class _LinearRegression():\n",
    "    def __init__(self, alpha=0.03, n_iter=1500, method=\"gradient descent\"):\n",
    "        self.alpha = alpha\n",
    "        self.n_iter = n_iter\n",
    "        self.method = method\n",
    "        self.params = None\n",
    "\n",
    "    def _gradient_descent(self, X_train, y_train):\n",
    "        n_samples, n_features = X_train.shape\n",
    "        \n",
    "        X_train = np.hstack((np.ones((n_samples, 1)), (X_train - np.mean(X_train, 0)) / np.std(X_train, 0)))\n",
    "        y_train = y_train[:, np.newaxis]\n",
    "        self.params = np.zeros((n_features + 1, 1))\n",
    "\n",
    "        for i in range(self.n_iter):\n",
    "            self.params -= (self.alpha/n_samples) * X_train.T @ (X_train @ self.params - y_train)\n",
    "\n",
    "        return self\n",
    "    \n",
    "    def _sgd(self, X_train, y_train):\n",
    "        pass\n",
    "    \n",
    "    def _fit(self, X_train, y_train):\n",
    "        if self.method == \"gradient descent\":\n",
    "            return self._gradient_descent(X_train, y_train)\n",
    "        \n",
    "        elif self.method == \"sgd\":\n",
    "            return self._sgd(X_train, y_train)\n",
    "\n",
    "    def _predict(self, X_test):\n",
    "        n_samples = np.size(X_test, 0)\n",
    "        y = np.hstack((np.ones((n_samples, 1)), (X_test - np.mean(X_test, 0)) / np.std(X_test, 0))) @ self.params\n",
    "        return y"
   ]
  },
  {
   "cell_type": "code",
   "execution_count": 3,
   "metadata": {},
   "outputs": [
    {
     "data": {
      "text/plain": [
       "(506, 13)"
      ]
     },
     "execution_count": 3,
     "metadata": {},
     "output_type": "execute_result"
    }
   ],
   "source": [
    "from sklearn.datasets import load_boston\n",
    "\n",
    "boston = load_boston()\n",
    "data = boston.data\n",
    "target = boston.target\n",
    "\n",
    "data.shape       "
   ]
  },
  {
   "cell_type": "code",
   "execution_count": 4,
   "metadata": {},
   "outputs": [
    {
     "name": "stdout",
     "output_type": "stream",
     "text": [
      "Train data shape: (354, 13)\n",
      "Test data shape: (152, 13)\n"
     ]
    }
   ],
   "source": [
    "from sklearn.model_selection import train_test_split\n",
    "\n",
    "X_train, X_test, y_train, y_test = train_test_split(data, target, test_size=0.3)\n",
    "\n",
    "print(f'Train data shape: {X_train.shape}')\n",
    "print(f'Test data shape: {X_test.shape}')"
   ]
  },
  {
   "cell_type": "code",
   "execution_count": 5,
   "metadata": {},
   "outputs": [],
   "source": [
    "from sklearn.metrics import mean_squared_error"
   ]
  },
  {
   "cell_type": "code",
   "execution_count": 6,
   "metadata": {},
   "outputs": [
    {
     "name": "stdout",
     "output_type": "stream",
     "text": [
      "Mean squared error for custom model: 18.306198830723208\n",
      "Wall time: 207 ms\n"
     ]
    }
   ],
   "source": [
    "%%time\n",
    "\n",
    "_lr_custom = _LinearRegression()\n",
    "_lr_custom._fit(X_train, y_train)\n",
    "y_pred_custom = _lr_custom._predict(X_test)\n",
    "mse_custom = mean_squared_error(y_test, y_pred_custom)\n",
    "\n",
    "print(f\"Mean squared error for custom model: {mse_custom}\")"
   ]
  },
  {
   "cell_type": "code",
   "execution_count": 7,
   "metadata": {},
   "outputs": [],
   "source": [
    "from sklearn.preprocessing import StandardScaler\n",
    " \n",
    "scaler = StandardScaler()\n",
    "X_train = scaler.fit_transform(X_train)\n",
    "X_test = scaler.transform(X_test)"
   ]
  },
  {
   "cell_type": "code",
   "execution_count": 8,
   "metadata": {},
   "outputs": [
    {
     "name": "stdout",
     "output_type": "stream",
     "text": [
      "Mean squared error for sklearn model: 18.337323968639005\n",
      "Wall time: 513 ms\n"
     ]
    }
   ],
   "source": [
    "%%time\n",
    "\n",
    "from sklearn.linear_model import LinearRegression\n",
    "\n",
    "lr_sklearn = LinearRegression()\n",
    "lr_sklearn.fit(X_train, y_train)\n",
    "y_pred_sklearn = lr_sklearn.predict(X_test)\n",
    "mse_sklearn = mean_squared_error(y_test, y_pred_sklearn)\n",
    "\n",
    "print(f\"Mean squared error for sklearn model: {mse_sklearn}\")"
   ]
  },
  {
   "cell_type": "markdown",
   "metadata": {},
   "source": [
    "#### Explanation of matrix operations"
   ]
  },
  {
   "cell_type": "code",
   "execution_count": 58,
   "metadata": {},
   "outputs": [],
   "source": [
    "x = np.array([[1, 2 , 3, 4],\n",
    "              [2, 3, 2, 5],\n",
    "              [1, 5, 4, 2],\n",
    "              [2, 3, 4, 5]])"
   ]
  },
  {
   "cell_type": "code",
   "execution_count": 59,
   "metadata": {},
   "outputs": [],
   "source": [
    "w = np.array([2, 1, 3, 4])"
   ]
  },
  {
   "cell_type": "code",
   "execution_count": 60,
   "metadata": {},
   "outputs": [
    {
     "data": {
      "text/plain": [
       "array([29, 33, 27, 39])"
      ]
     },
     "execution_count": 60,
     "metadata": {},
     "output_type": "execute_result"
    }
   ],
   "source": [
    "x @ w # Returns prediction for each object"
   ]
  },
  {
   "cell_type": "code",
   "execution_count": 62,
   "metadata": {},
   "outputs": [
    {
     "data": {
      "text/plain": [
       "array([200, 409, 417, 530])"
      ]
     },
     "execution_count": 62,
     "metadata": {},
     "output_type": "execute_result"
    }
   ],
   "source": [
    "x.T @ (x @ w) # Sum of multiplication of prediction to each column"
   ]
  },
  {
   "cell_type": "code",
   "execution_count": null,
   "metadata": {},
   "outputs": [],
   "source": []
  }
 ],
 "metadata": {
  "kernelspec": {
   "display_name": "Python 3",
   "language": "python",
   "name": "python3"
  },
  "language_info": {
   "codemirror_mode": {
    "name": "ipython",
    "version": 3
   },
   "file_extension": ".py",
   "mimetype": "text/x-python",
   "name": "python",
   "nbconvert_exporter": "python",
   "pygments_lexer": "ipython3",
   "version": "3.7.3"
  }
 },
 "nbformat": 4,
 "nbformat_minor": 2
}
