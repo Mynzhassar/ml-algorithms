{
 "cells": [
  {
   "cell_type": "code",
   "execution_count": 130,
   "metadata": {},
   "outputs": [],
   "source": [
    "import numpy as np"
   ]
  },
  {
   "cell_type": "code",
   "execution_count": 131,
   "metadata": {},
   "outputs": [],
   "source": [
    "class _LinearRegression:\n",
    "    def __init__(self, X, y, w, n_iters=1e6, eta=1e-2, eps=1e-3):\n",
    "        self.X = X\n",
    "        self.y = y\n",
    "        self.w = w\n",
    "        self.n_iters=n_iters\n",
    "        self.eta=eta\n",
    "        self.eps = eps\n",
    "        \n",
    "    def _sgd_step(self, ind):\n",
    "        x = self.X[ind]\n",
    "        grad = np.zeros(self.w.shape)\n",
    "        feat_weight_sum = np.sum(x * self.w)\n",
    "        \n",
    "        for i in range(len(grad)):\n",
    "            grad[i] = x[i] * (feat_weight_sum - self.y[ind])\n",
    "            \n",
    "        return (2 * self.eta / self.X.shape[0]) * grad\n",
    "    \n",
    "    def _mse_error(self):\n",
    "        return np.sum((np.dot(self.X, self.w.T) - self.y)**2)\n",
    "    \n",
    "    def _sgd(self):\n",
    "        errors = []\n",
    "        _iter = 0\n",
    "        _eps = np.inf\n",
    "        \n",
    "        while _iter < self.n_iters or _eps > self.eps:\n",
    "            ind = np.random.randint(self.X.shape[0])\n",
    "            \n",
    "            w_old = self.w\n",
    "            self.w = w_old - self._sgd_step(ind)\n",
    "            _eps = np.linalg.norm(w_old - self.w)\n",
    "            \n",
    "            _iter += 1\n",
    "            errors.append(self._mse_error())\n",
    "            \n",
    "        return self.w, errors, _iter\n",
    "        \n",
    "    def predict(self, X_test, weights):\n",
    "        return np.dot(X_test, weights.T)"
   ]
  },
  {
   "cell_type": "code",
   "execution_count": 132,
   "metadata": {},
   "outputs": [],
   "source": [
    "from sklearn.datasets import load_iris\n",
    "\n",
    "iris = load_iris()\n",
    "data = iris.data\n",
    "target = iris.target"
   ]
  },
  {
   "cell_type": "code",
   "execution_count": 133,
   "metadata": {},
   "outputs": [
    {
     "name": "stdout",
     "output_type": "stream",
     "text": [
      "(150, 5)\n",
      "[0. 0. 0. 0. 0.]\n"
     ]
    }
   ],
   "source": [
    "data = np.hstack((data, np.ones((data.shape[0], 1))))\n",
    "print(data.shape)\n",
    "\n",
    "w = np.zeros(data.shape[1])\n",
    "print(w)"
   ]
  },
  {
   "cell_type": "code",
   "execution_count": 134,
   "metadata": {},
   "outputs": [],
   "source": [
    "from sklearn.model_selection import train_test_split\n",
    "\n",
    "X_train, X_test, y_train, y_test = train_test_split(data, target, test_size=0.3)"
   ]
  },
  {
   "cell_type": "code",
   "execution_count": 135,
   "metadata": {},
   "outputs": [],
   "source": [
    "_lr_model = _LinearRegression(X_train, y_train, w)\n",
    "weights, errors, iterations = _lr_model._sgd()"
   ]
  },
  {
   "cell_type": "code",
   "execution_count": 136,
   "metadata": {},
   "outputs": [
    {
     "data": {
      "image/png": "[encoded data removed]",
      "text/plain": [
       "<Figure size 432x288 with 1 Axes>"
      ]
     },
     "metadata": {
      "needs_background": "light"
     },
     "output_type": "display_data"
    }
   ],
   "source": [
    "import matplotlib.pyplot as plt\n",
    "\n",
    "plt.plot(range(iterations), errors);"
   ]
  },
  {
   "cell_type": "code",
   "execution_count": 137,
   "metadata": {},
   "outputs": [
    {
     "name": "stdout",
     "output_type": "stream",
     "text": [
      "0.04761799554380045\n"
     ]
    }
   ],
   "source": [
    "from sklearn.metrics import mean_squared_error as mse\n",
    "\n",
    "y_pred = _lr_model.predict(X_test, weights)\n",
    "custom_model_mse = mse(y_test, y_pred)\n",
    "print(custom_model_mse)"
   ]
  },
  {
   "cell_type": "code",
   "execution_count": 138,
   "metadata": {},
   "outputs": [
    {
     "name": "stdout",
     "output_type": "stream",
     "text": [
      "0.04606337166622676\n"
     ]
    }
   ],
   "source": [
    "from sklearn.linear_model import LinearRegression\n",
    "\n",
    "lr = LinearRegression()\n",
    "lr.fit(X_train, y_train)\n",
    "y_pred = lr.predict(X_test)\n",
    "\n",
    "sklearn_model_mse = mse(y_test, y_pred)\n",
    "print(sklearn_model_mse)"
   ]
  },
  {
   "cell_type": "code",
   "execution_count": null,
   "metadata": {},
   "outputs": [],
   "source": []
  }
 ],
 "metadata": {
  "kernelspec": {
   "display_name": "Python 3",
   "language": "python",
   "name": "python3"
  },
  "language_info": {
   "codemirror_mode": {
    "name": "ipython",
    "version": 3
   },
   "file_extension": ".py",
   "mimetype": "text/x-python",
   "name": "python",
   "nbconvert_exporter": "python",
   "pygments_lexer": "ipython3",
   "version": "3.7.3"
  }
 },
 "nbformat": 4,
 "nbformat_minor": 2
}
