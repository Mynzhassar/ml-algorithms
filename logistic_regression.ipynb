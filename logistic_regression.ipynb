{
 "cells": [
  {
   "cell_type": "code",
   "execution_count": 467,
   "metadata": {},
   "outputs": [],
   "source": [
    "import numpy as np"
   ]
  },
  {
   "cell_type": "code",
   "execution_count": 468,
   "metadata": {},
   "outputs": [],
   "source": [
    "class _LogisticRegression:\n",
    "    def __init__(self, alpha=0.01, max_iters=1000, min_weight_dist=1e-8, method=\"gradient descent\"):\n",
    "        self.alpha = alpha\n",
    "        self.max_iters = max_iters\n",
    "        self.min_weight_dist = min_weight_dist\n",
    "        self.method = method\n",
    "        self.params = None\n",
    "        self.iters = 0\n",
    "        self.errors = []\n",
    "        \n",
    "    \n",
    "    def _sigmoid(self, z):\n",
    "        return 1 / (1 + np.exp(-z))\n",
    "    \n",
    "    \n",
    "    def _loss_function(self, p, y):\n",
    "        return np.mean((-y * np.log(p) - (1 - y) * np.log(1 - p)))\n",
    "    \n",
    "    \n",
    "    def _gradient_descent(self, X_train, y_train, n_samples, n_features):\n",
    "        weight_dist = np.inf\n",
    "        \n",
    "        while self.iters < self.max_iters or self.min_weight_dist < weight_dist:\n",
    "            z = X_train @ self.params\n",
    "            p = self._sigmoid(z)\n",
    "            \n",
    "            params_old = self.params\n",
    "            params_old -= (self.alpha/n_samples) * X_train.T @ (p - y_train)\n",
    "            \n",
    "            weight_dist = np.linalg.norm(params_old - self.params)\n",
    "            self.errors.append(self._loss_function(p, y_train))\n",
    "            self.iters += 1\n",
    "    \n",
    "    \n",
    "    def _sgd(self, X_train, y_train, n_samples, n_features):\n",
    "        weight_dist = np.inf\n",
    "        np.random.seed(42)\n",
    "        \n",
    "        while self.iters < self.max_iters or self.min_weight_dist < weight_dist:\n",
    "            ind = np.random.randint(n_samples)\n",
    "            x = np.reshape(X_train[ind], (1, n_features))\n",
    "            \n",
    "            z = x @ self.params\n",
    "            p = self._sigmoid(z)\n",
    "            \n",
    "            params_old = self.params\n",
    "            self.params -= (self.alpha/n_samples) * x.T @ (p - y_train[ind])\n",
    "            \n",
    "            weight_dist = np.linalg.norm(params_old - self.params)\n",
    "            self.errors.append(self._loss_function(p, y_train))\n",
    "            self.iters += 1\n",
    "    \n",
    "    \n",
    "    def _fit(self, X_train, y_train):\n",
    "        n_samples, n_features = X_train.shape\n",
    "        y_train = y_train[:, np.newaxis]\n",
    "        self.params = np.zeros((n_features, 1))\n",
    "        \n",
    "        if self.method == \"gradient descent\":\n",
    "            return self._gradient_descent(X_train, y_train, n_samples, n_features)\n",
    "        elif self.method == \"sgd\":\n",
    "            return self._sgd(X_train, y_train, n_samples, n_features)\n",
    "        else:\n",
    "            raise ValueError(f\"No such method: {self.method}\")\n",
    "            \n",
    "            \n",
    "    def _predict_prob(self, X_test):\n",
    "        n_samples = X_test.shape[0]\n",
    "        class_1 =  self._sigmoid(X_test @ self.params)\n",
    "        class_2 = np.array([(1 - p) for p in class_1])\n",
    "        \n",
    "        probs = np.zeros((n_samples, 2))\n",
    "        for i in range(n_samples):\n",
    "            probs[i][0] = class_1[i]\n",
    "            probs[i][1] = class_2[i]\n",
    "            \n",
    "        return probs\n",
    "            \n",
    "            \n",
    "    def _predict(self, X_test, T=0.5):\n",
    "        probs = self._predict_prob(X_test)[:, 0]\n",
    "        y_pred = np.array([1 if p > T else 0 for p in probs])\n",
    "        return y_pred"
   ]
  },
  {
   "cell_type": "code",
   "execution_count": 469,
   "metadata": {},
   "outputs": [
    {
     "data": {
      "text/plain": [
       "(1797, 2)"
      ]
     },
     "execution_count": 469,
     "metadata": {},
     "output_type": "execute_result"
    }
   ],
   "source": [
    "from sklearn.datasets import load_digits\n",
    "\n",
    "digits = load_digits()\n",
    "data = digits.data[:, :2]\n",
    "target = (digits.target != 0) * 1\n",
    "\n",
    "data.shape"
   ]
  },
  {
   "cell_type": "code",
   "execution_count": 470,
   "metadata": {},
   "outputs": [
    {
     "name": "stdout",
     "output_type": "stream",
     "text": [
      "Train data shape: (1257, 2)\n",
      "Test data shape: (540, 2)\n"
     ]
    }
   ],
   "source": [
    "from sklearn.model_selection import train_test_split\n",
    "\n",
    "X_train, X_test, y_train, y_test = train_test_split(data, target, test_size=0.3)\n",
    "print(f\"Train data shape: {X_train.shape}\")\n",
    "print(f\"Test data shape: {X_test.shape}\")"
   ]
  },
  {
   "cell_type": "code",
   "execution_count": 471,
   "metadata": {},
   "outputs": [],
   "source": [
    "from sklearn.preprocessing import StandardScaler\n",
    "\n",
    "scaler = StandardScaler()\n",
    "X_train_transformed = scaler.fit_transform(X_train)\n",
    "X_test_transformed = scaler.transform(X_test)"
   ]
  },
  {
   "cell_type": "code",
   "execution_count": 472,
   "metadata": {},
   "outputs": [
    {
     "name": "stdout",
     "output_type": "stream",
     "text": [
      "Train data shape: (1257, 3)\n",
      "Test data shape: (540, 3)\n"
     ]
    }
   ],
   "source": [
    "X_train_transformed_ones = np.hstack((np.ones((X_train.shape[0], 1)), X_train_transformed))\n",
    "X_test_transformed_ones = np.hstack((np.ones((X_test.shape[0], 1)), X_test_transformed))\n",
    "\n",
    "print(f\"Train data shape: {X_train_transformed_ones.shape}\")\n",
    "print(f\"Test data shape: {X_test_transformed_ones.shape}\")"
   ]
  },
  {
   "cell_type": "code",
   "execution_count": 473,
   "metadata": {},
   "outputs": [],
   "source": [
    "from sklearn.metrics import accuracy_score, precision_score, recall_score, f1_score, roc_auc_score "
   ]
  },
  {
   "cell_type": "code",
   "execution_count": 474,
   "metadata": {},
   "outputs": [
    {
     "name": "stdout",
     "output_type": "stream",
     "text": [
      "Accuracy of custom model: 0.8944444444444445\n",
      "Wall time: 352 ms\n"
     ]
    }
   ],
   "source": [
    "%%time\n",
    "\n",
    "_lr_custom = _LogisticRegression()\n",
    "_lr_custom._fit(X_train_transformed_ones, y_train)\n",
    "y_pred_custom = _lr_custom._predict(X_test_transformed_ones)\n",
    "accuracy_custom = accuracy_score(y_pred_custom, y_test)\n",
    "\n",
    "print(f\"Accuracy of custom model: {accuracy_custom}\")"
   ]
  },
  {
   "cell_type": "code",
   "execution_count": 475,
   "metadata": {},
   "outputs": [
    {
     "data": {
      "image/png": "[encoded data removed]",
      "text/plain": [
       "<Figure size 432x288 with 1 Axes>"
      ]
     },
     "metadata": {
      "needs_background": "light"
     },
     "output_type": "display_data"
    }
   ],
   "source": [
    "import matplotlib.pyplot as plt\n",
    "\n",
    "iterations = range(_lr_custom.iters)\n",
    "errors = _lr_custom.errors\n",
    "\n",
    "plt.plot(iterations, errors)\n",
    "plt.xlabel(\"Iterations\")\n",
    "plt.ylabel(\"Log-loss\")\n",
    "plt.title(\"Error on each iteration for custom model\");"
   ]
  },
  {
   "cell_type": "code",
   "execution_count": 476,
   "metadata": {},
   "outputs": [
    {
     "name": "stdout",
     "output_type": "stream",
     "text": [
      "Accuracy of sklearn model: 0.8944444444444445\n",
      "Wall time: 27.1 ms\n"
     ]
    }
   ],
   "source": [
    "%%time\n",
    "\n",
    "from sklearn.linear_model import LogisticRegression\n",
    "\n",
    "lr_sklearn = LogisticRegression(solver='lbfgs', multi_class='auto')\n",
    "lr_sklearn.fit(X_train_transformed, y_train)\n",
    "y_pred_sklearn = lr_sklearn.predict(X_test_transformed)\n",
    "accuracy_sklearn = accuracy_score(y_pred_sklearn, y_test)\n",
    "\n",
    "print(f\"Accuracy of sklearn model: {accuracy_sklearn}\")"
   ]
  },
  {
   "cell_type": "markdown",
   "metadata": {},
   "source": [
    "### Testing SGD"
   ]
  },
  {
   "cell_type": "code",
   "execution_count": 477,
   "metadata": {},
   "outputs": [
    {
     "name": "stdout",
     "output_type": "stream",
     "text": [
      "Accuracy of custom SGD: 0.8944444444444445\n",
      "Wall time: 170 ms\n"
     ]
    }
   ],
   "source": [
    "%%time\n",
    "\n",
    "_sgd_custom = _LogisticRegression(method=\"sgd\")\n",
    "_sgd_custom._fit(X_train_transformed_ones, y_train)\n",
    "y_pred_custom = _sgd_custom._predict(X_test_transformed_ones)\n",
    "accuracy_custom = accuracy_score(y_test, y_pred_custom)\n",
    "\n",
    "print(f\"Accuracy of custom SGD: {accuracy_custom}\")"
   ]
  },
  {
   "cell_type": "code",
   "execution_count": 478,
   "metadata": {},
   "outputs": [
    {
     "data": {
      "image/png": "[encoded data removed]",
      "text/plain": [
       "<Figure size 432x288 with 1 Axes>"
      ]
     },
     "metadata": {
      "needs_background": "light"
     },
     "output_type": "display_data"
    }
   ],
   "source": [
    "iterations = range(_sgd_custom.iters)\n",
    "errors = _sgd_custom.errors\n",
    "\n",
    "plt.plot(iterations, errors)\n",
    "plt.xlabel(\"Iterations\")\n",
    "plt.ylabel(\"Log-loss\")\n",
    "plt.title(\"Error on each iteration for custom SGD model\");"
   ]
  },
  {
   "cell_type": "code",
   "execution_count": 479,
   "metadata": {},
   "outputs": [
    {
     "name": "stdout",
     "output_type": "stream",
     "text": [
      "Accuracy of sklearn SGD: 0.8944444444444445\n",
      "Wall time: 8.5 ms\n"
     ]
    }
   ],
   "source": [
    "%%time\n",
    "\n",
    "from sklearn.linear_model import SGDClassifier\n",
    "\n",
    "sgd_sklearn = SGDClassifier()\n",
    "sgd_sklearn.fit(X_train_transformed, y_train)\n",
    "y_pred_sklearn = sgd_sklearn.predict(X_test_transformed)\n",
    "accuracy_sklearn = accuracy_score(y_pred_sklearn, y_test)\n",
    "\n",
    "print(f\"Accuracy of sklearn SGD: {accuracy_sklearn}\")"
   ]
  },
  {
   "cell_type": "code",
   "execution_count": null,
   "metadata": {},
   "outputs": [],
   "source": []
  }
 ],
 "metadata": {
  "kernelspec": {
   "display_name": "Python 3",
   "language": "python",
   "name": "python3"
  },
  "language_info": {
   "codemirror_mode": {
    "name": "ipython",
    "version": 3
   },
   "file_extension": ".py",
   "mimetype": "text/x-python",
   "name": "python",
   "nbconvert_exporter": "python",
   "pygments_lexer": "ipython3",
   "version": "3.7.3"
  }
 },
 "nbformat": 4,
 "nbformat_minor": 2
}
