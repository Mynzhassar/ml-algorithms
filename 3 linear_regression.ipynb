{
 "cells": [
  {
   "cell_type": "code",
   "execution_count": 53,
   "metadata": {},
   "outputs": [],
   "source": [
    "import numpy as np"
   ]
  },
  {
   "cell_type": "code",
   "execution_count": 54,
   "metadata": {},
   "outputs": [],
   "source": [
    "class _LinearRegression():\n",
    "    def __init__(self, alpha=0.01, max_iters=100, max_weight_dist = 1e-4, method=\"gradient descent\"):\n",
    "        self.alpha = alpha\n",
    "        self.max_iters = max_iters\n",
    "        self.max_weight_dist = max_weight_dist\n",
    "        self.method = method\n",
    "        self.params = None\n",
    "        self.iters = 0\n",
    "        self.errors = []\n",
    "        \n",
    "        \n",
    "    def _mse(self, y_true, y_pred):\n",
    "        return np.mean((y_true - y_pred)**2)\n",
    "\n",
    "    \n",
    "    def _gradient_descent(self, X_train, y_train, n_samples):\n",
    "        weight_dist = np.inf\n",
    "        \n",
    "        while weight_dist > self.max_weight_dist and self.iters < self.max_iters:\n",
    "            old_params = self.params\n",
    "            \n",
    "            self.params = old_params - (self.alpha/n_samples) * X_train.T @ (X_train @ self.params - y_train)\n",
    "            weight_dist = np.linalg.norm(old_params - self.params)\n",
    "            \n",
    "            self.errors.append(self._mse(y_train, X_train @ self.params))\n",
    "            self.iters += 1\n",
    "        \n",
    "        return self\n",
    "            \n",
    "    \n",
    "    def _sgd(self, X_train, y_train, n_samples, n_features):\n",
    "        np.random.seed(42)\n",
    "        weight_dist = np.inf\n",
    "        \n",
    "        while weight_dist > self.max_weight_dist and self.iters < self.max_iters:\n",
    "            ind = np.random.randint(n_samples)\n",
    "            x = np.reshape(X_train[ind], (1, n_features))\n",
    "            old_params = self.params\n",
    "            \n",
    "            self.params = old_params - (self.alpha/n_samples) * x.T @ (x @ self.params - y_train[ind])\n",
    "            weight_dist = np.linalg.norm(old_params - self.params)\n",
    "            \n",
    "            self.errors.append(self._mse(y_train, X_train @ self.params))\n",
    "            self.iters += 1\n",
    "            \n",
    "        return self\n",
    "    \n",
    "    \n",
    "    def _fit(self, X_train, y_train):\n",
    "        n_samples, n_features = X_train.shape\n",
    "        y_train = y_train[:, np.newaxis]\n",
    "        self.params = np.zeros((n_features, 1))\n",
    "        \n",
    "        if self.method == \"gradient descent\":\n",
    "            return self._gradient_descent(X_train, y_train, n_samples)\n",
    "                       \n",
    "        elif self.method == \"sgd\":\n",
    "            return self._sgd(X_train, y_train, n_samples, n_features)\n",
    "                       \n",
    "        else: \n",
    "            raise ValueError(f\"No such method: '{self.method}'\")\n",
    "        \n",
    "\n",
    "    def _predict(self, X_test):\n",
    "        return X_test @ self.params"
   ]
  },
  {
   "cell_type": "code",
   "execution_count": 55,
   "metadata": {},
   "outputs": [
    {
     "data": {
      "text/plain": [
       "(506, 13)"
      ]
     },
     "execution_count": 55,
     "metadata": {},
     "output_type": "execute_result"
    }
   ],
   "source": [
    "from sklearn.datasets import load_boston\n",
    "\n",
    "boston = load_boston()\n",
    "data = boston.data\n",
    "target = boston.target\n",
    "\n",
    "data.shape       "
   ]
  },
  {
   "cell_type": "code",
   "execution_count": 56,
   "metadata": {},
   "outputs": [
    {
     "name": "stdout",
     "output_type": "stream",
     "text": [
      "Train data shape: (354, 13)\n",
      "Test data shape: (152, 13)\n"
     ]
    }
   ],
   "source": [
    "from sklearn.model_selection import train_test_split\n",
    "\n",
    "X_train, X_test, y_train, y_test = train_test_split(data, target, test_size=0.3)\n",
    "\n",
    "print(f'Train data shape: {X_train.shape}')\n",
    "print(f'Test data shape: {X_test.shape}')"
   ]
  },
  {
   "cell_type": "code",
   "execution_count": 57,
   "metadata": {},
   "outputs": [],
   "source": [
    "from sklearn.preprocessing import StandardScaler\n",
    "\n",
    "scaler = StandardScaler()\n",
    "X_train_transformed = scaler.fit_transform(X_train)\n",
    "X_test_transformed = scaler.transform(X_test)"
   ]
  },
  {
   "cell_type": "code",
   "execution_count": 58,
   "metadata": {},
   "outputs": [],
   "source": [
    "from sklearn.metrics import mean_squared_error"
   ]
  },
  {
   "cell_type": "code",
   "execution_count": 59,
   "metadata": {},
   "outputs": [
    {
     "data": {
      "text/plain": [
       "(354, 14)"
      ]
     },
     "execution_count": 59,
     "metadata": {},
     "output_type": "execute_result"
    }
   ],
   "source": [
    "X_train_transformed_ones = np.hstack((np.ones((X_train.shape[0], 1)), X_train_transformed))\n",
    "X_test_transformed_ones = np.hstack((np.ones((X_test.shape[0], 1)), X_test_transformed))\n",
    "\n",
    "X_train_transformed_ones.shape"
   ]
  },
  {
   "cell_type": "code",
   "execution_count": 60,
   "metadata": {},
   "outputs": [
    {
     "name": "stdout",
     "output_type": "stream",
     "text": [
      "Mean squared error for custom model: 41.90183095030527\n",
      "Wall time: 563 ms\n"
     ]
    }
   ],
   "source": [
    "%%time\n",
    "\n",
    "_lr_custom = _LinearRegression(max_iters=1e4)\n",
    "_lr_custom._fit(X_train_transformed_ones, y_train)\n",
    "y_pred_custom = _lr_custom._predict(X_test_transformed_ones)\n",
    "mse_custom = mean_squared_error(y_test, y_pred_custom)\n",
    "\n",
    "print(f\"Mean squared error for custom model: {mse_custom}\")"
   ]
  },
  {
   "cell_type": "code",
   "execution_count": 61,
   "metadata": {},
   "outputs": [
    {
     "name": "stdout",
     "output_type": "stream",
     "text": [
      "Number of iterations: 4548\n"
     ]
    },
    {
     "data": {
      "image/png": "[encoded data removed]",
      "text/plain": [
       "<Figure size 432x288 with 1 Axes>"
      ]
     },
     "metadata": {
      "needs_background": "light"
     },
     "output_type": "display_data"
    }
   ],
   "source": [
    "import matplotlib.pyplot as plt\n",
    "\n",
    "iterations = range(_lr_custom.iters)\n",
    "errors = _lr_custom.errors\n",
    "print(f'Number of iterations: {_lr_custom.iters}')\n",
    "\n",
    "plt.plot(iterations, errors)\n",
    "plt.xlabel(\"Iterations\")\n",
    "plt.ylabel(\"MSE\")\n",
    "plt.title(\"Gradient descent error on each iteration\");"
   ]
  },
  {
   "cell_type": "code",
   "execution_count": 62,
   "metadata": {},
   "outputs": [
    {
     "name": "stdout",
     "output_type": "stream",
     "text": [
      "Mean squared error for sklearn model: 41.836188699269066\n",
      "Wall time: 52.6 ms\n"
     ]
    }
   ],
   "source": [
    "%%time\n",
    "\n",
    "from sklearn.linear_model import LinearRegression\n",
    "\n",
    "y_pred_sklearn = LinearRegression().fit(X_train_transformed, y_train).predict(X_test_transformed)\n",
    "mse_sklearn = mean_squared_error(y_test, y_pred_sklearn)\n",
    "\n",
    "print(f\"Mean squared error for sklearn model: {mse_sklearn}\")"
   ]
  },
  {
   "cell_type": "markdown",
   "metadata": {},
   "source": [
    "### Testing SGD"
   ]
  },
  {
   "cell_type": "code",
   "execution_count": 63,
   "metadata": {},
   "outputs": [
    {
     "name": "stdout",
     "output_type": "stream",
     "text": [
      "MSE for custom SGD: 61.63348429044729\n",
      "Wall time: 6.38 s\n"
     ]
    }
   ],
   "source": [
    "%%time\n",
    "\n",
    "_sgd_custom = _LinearRegression(method=\"sgd\", max_iters=1e5, max_weight_dist=1e-8)\n",
    "_sgd_custom._fit(X_train_transformed_ones, y_train)\n",
    "y_pred_custom = _sgd_custom._predict(X_test_transformed_ones)\n",
    "mse_custom = mean_squared_error(y_test, y_pred_custom)\n",
    "\n",
    "print(f\"MSE for custom SGD: {mse_custom}\")"
   ]
  },
  {
   "cell_type": "code",
   "execution_count": 64,
   "metadata": {},
   "outputs": [
    {
     "name": "stdout",
     "output_type": "stream",
     "text": [
      "Number of iterations: 69606\n"
     ]
    },
    {
     "data": {
      "image/png": "[encoded data removed]",
      "text/plain": [
       "<Figure size 432x288 with 1 Axes>"
      ]
     },
     "metadata": {
      "needs_background": "light"
     },
     "output_type": "display_data"
    }
   ],
   "source": [
    "iterations = range(_sgd_custom.iters)\n",
    "errors = _sgd_custom.errors\n",
    "print(f\"Number of iterations: {_sgd_custom.iters}\")\n",
    "\n",
    "plt.plot(iterations, errors)\n",
    "plt.xlabel(\"Iterations\")\n",
    "plt.ylabel(\"MSE\")\n",
    "plt.title(\"SGD error on each iteration\");"
   ]
  },
  {
   "cell_type": "code",
   "execution_count": 65,
   "metadata": {},
   "outputs": [
    {
     "name": "stdout",
     "output_type": "stream",
     "text": [
      "Mean squared error for sklearn SGD: 42.18497309707079\n",
      "Wall time: 17.6 ms\n"
     ]
    }
   ],
   "source": [
    "%%time\n",
    "\n",
    "from sklearn.linear_model import SGDRegressor\n",
    "\n",
    "y_pred_sklearn = SGDRegressor().fit(X_train_transformed, y_train).predict(X_test_transformed)\n",
    "mse_sklearn = mean_squared_error(y_test, y_pred_sklearn)\n",
    "\n",
    "print(f\"Mean squared error for sklearn SGD: {mse_sklearn}\")"
   ]
  },
  {
   "cell_type": "code",
   "execution_count": null,
   "metadata": {},
   "outputs": [],
   "source": []
  }
 ],
 "metadata": {
  "kernelspec": {
   "display_name": "Python 3",
   "language": "python",
   "name": "python3"
  },
  "language_info": {
   "codemirror_mode": {
    "name": "ipython",
    "version": 3
   },
   "file_extension": ".py",
   "mimetype": "text/x-python",
   "name": "python",
   "nbconvert_exporter": "python",
   "pygments_lexer": "ipython3",
   "version": "3.7.3"
  }
 },
 "nbformat": 4,
 "nbformat_minor": 2
}
