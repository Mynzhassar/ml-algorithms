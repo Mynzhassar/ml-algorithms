{
 "cells": [
  {
   "cell_type": "code",
   "execution_count": 53,
   "metadata": {},
   "outputs": [],
   "source": [
    "import numpy as np"
   ]
  },
  {
   "cell_type": "code",
   "execution_count": 54,
   "metadata": {},
   "outputs": [],
   "source": [
    "class _kNN_regressor:\n",
    "    def __init__(self, k, X_train, y_train, X_test):\n",
    "        \n",
    "        self.k = k\n",
    "        self.X_train = X_train\n",
    "        self.y_train = y_train\n",
    "        self.X_test = X_test\n",
    "        self.n_samples = X_test.shape[0]\n",
    "        \n",
    "    def _predict(self):\n",
    "        \n",
    "        y_pred = np.zeros(self.n_samples)\n",
    "        \n",
    "        for test_index, test_object in enumerate(X_test):\n",
    "            \n",
    "            distance_label = {}\n",
    "            for train_index, train_obj in enumerate(X_train):\n",
    "                dist = np.linalg.norm(test_object - train_obj)\n",
    "                distance_label[dist] = y_train[train_index]\n",
    "                \n",
    "            predictions = 0\n",
    "            for index, distance in enumerate(sorted(distance_label)):\n",
    "                if index == self.k: break\n",
    "                predictions += distance_label[distance]\n",
    "                    \n",
    "            y_pred[test_index] = predictions/self.k\n",
    "            \n",
    "        return y_pred"
   ]
  },
  {
   "cell_type": "code",
   "execution_count": 55,
   "metadata": {},
   "outputs": [
    {
     "data": {
      "text/plain": [
       "(506, 13)"
      ]
     },
     "execution_count": 55,
     "metadata": {},
     "output_type": "execute_result"
    }
   ],
   "source": [
    "from sklearn.datasets import load_boston\n",
    "\n",
    "boston = load_boston()\n",
    "data = boston.data\n",
    "target = boston.target\n",
    "\n",
    "data.shape"
   ]
  },
  {
   "cell_type": "code",
   "execution_count": 56,
   "metadata": {},
   "outputs": [
    {
     "name": "stdout",
     "output_type": "stream",
     "text": [
      "Train data shape: (379, 13)\n",
      "Test data shape: (127, 13)\n"
     ]
    }
   ],
   "source": [
    "from sklearn.model_selection import train_test_split\n",
    "\n",
    "X_train, X_test, y_train, y_test = train_test_split(data, target, test_size=0.25)\n",
    "\n",
    "print(f\"Train data shape: {X_train.shape}\")\n",
    "print(f\"Test data shape: {X_test.shape}\")"
   ]
  },
  {
   "cell_type": "code",
   "execution_count": 57,
   "metadata": {},
   "outputs": [],
   "source": [
    "from sklearn.metrics import mean_squared_error"
   ]
  },
  {
   "cell_type": "code",
   "execution_count": 58,
   "metadata": {},
   "outputs": [
    {
     "name": "stdout",
     "output_type": "stream",
     "text": [
      "Mean squared error for custom model: 46.01619212598425\n",
      "Wall time: 710 ms\n"
     ]
    }
   ],
   "source": [
    "%%time\n",
    "\n",
    "_knn_custom = _kNN_regressor(5, X_train, y_train, X_test)\n",
    "y_pred_custom = _knn_custom._predict()\n",
    "mse_custom = mean_squared_error(y_test, y_pred_custom)\n",
    "\n",
    "print(f\"Mean squared error for custom model: {mse_custom}\")"
   ]
  },
  {
   "cell_type": "code",
   "execution_count": 59,
   "metadata": {},
   "outputs": [
    {
     "name": "stdout",
     "output_type": "stream",
     "text": [
      "Mean squared error for sklearn model: 46.01619212598425\n",
      "Wall time: 4.99 ms\n"
     ]
    }
   ],
   "source": [
    "%%time\n",
    "\n",
    "from sklearn.neighbors import KNeighborsRegressor\n",
    "\n",
    "knn_sklearn = KNeighborsRegressor(n_neighbors=5)\n",
    "knn_sklearn.fit(X_train, y_train)\n",
    "y_pred_sklearn = knn_sklearn.predict(X_test)\n",
    "mse_sklearn = mean_squared_error(y_test, y_pred_sklearn)\n",
    "\n",
    "print(f\"Mean squared error for sklearn model: {mse_sklearn}\")"
   ]
  },
  {
   "cell_type": "code",
   "execution_count": null,
   "metadata": {},
   "outputs": [],
   "source": []
  }
 ],
 "metadata": {
  "kernelspec": {
   "display_name": "Python 3",
   "language": "python",
   "name": "python3"
  },
  "language_info": {
   "codemirror_mode": {
    "name": "ipython",
    "version": 3
   },
   "file_extension": ".py",
   "mimetype": "text/x-python",
   "name": "python",
   "nbconvert_exporter": "python",
   "pygments_lexer": "ipython3",
   "version": "3.7.3"
  }
 },
 "nbformat": 4,
 "nbformat_minor": 2
}
