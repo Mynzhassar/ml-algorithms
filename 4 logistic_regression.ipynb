{
 "cells": [
  {
   "cell_type": "code",
   "execution_count": 10,
   "metadata": {},
   "outputs": [],
   "source": [
    "import numpy as np\n",
    "import warnings\n",
    "warnings.filterwarnings('ignore')"
   ]
  },
  {
   "cell_type": "code",
   "execution_count": 2,
   "metadata": {},
   "outputs": [],
   "source": [
    "class _LogisticRegression:\n",
    "    def __init__(self, alpha=0.01, max_iters=100, max_weight_dist=1e-4, method=\"gradient descent\"):\n",
    "        self.alpha = alpha\n",
    "        self.max_iters = max_iters\n",
    "        self.max_weight_dist = max_weight_dist\n",
    "        self.method = method\n",
    "        self.params = None\n",
    "        self.errors = []\n",
    "        self.iters = 0\n",
    "        \n",
    "    \n",
    "    def _sigmoid(self, z):\n",
    "        return 1 / (1 + np.exp(-z))\n",
    "    \n",
    "    \n",
    "    def _loss_function(self, prediction, y):\n",
    "        return np.mean((-y * np.log(prediction) - (1 - y) * np.log(1 - prediction)))\n",
    "    \n",
    "    \n",
    "    def _gradient_descent(self, X_train, y_train, n_samples):\n",
    "        weight_dist = np.inf\n",
    "        \n",
    "        while weight_dist > self.max_weight_dist and self.iters < self.max_iters:\n",
    "            z = X_train @ self.params\n",
    "            prediction = self._sigmoid(z)\n",
    "            old_params = self.params\n",
    "            \n",
    "            self.params = old_params - (self.alpha/n_samples) * X_train.T @ (prediction - y_train)\n",
    "            weight_dist = np.linalg.norm(old_params - self.params)\n",
    "            \n",
    "            self.errors.append(self._loss_function(prediction, y_train))\n",
    "            self.iters += 1\n",
    "            \n",
    "        return self\n",
    "    \n",
    "    \n",
    "    def _sgd(self, X_train, y_train, n_samples, n_features):\n",
    "        weight_dist = np.inf\n",
    "        np.random.seed(42)\n",
    "        \n",
    "        while weight_dist > self.max_weight_dist and self.iters < self.max_iters:\n",
    "            ind = np.random.randint(n_samples)\n",
    "            x = np.reshape(X_train[ind], (1, n_features))\n",
    "            \n",
    "            z = x @ self.params\n",
    "            prediction = self._sigmoid(z)\n",
    "            old_params = self.params\n",
    "            \n",
    "            self.params = old_params - (self.alpha/n_samples) * x.T @ (prediction - y_train[ind])\n",
    "            weight_dist = np.linalg.norm(old_params - self.params)\n",
    "            \n",
    "            self.errors.append(self._loss_function(prediction, y_train))\n",
    "            self.iters += 1\n",
    "            \n",
    "        return self\n",
    "    \n",
    "    \n",
    "    def _fit(self, X_train, y_train):\n",
    "        n_samples, n_features = X_train.shape\n",
    "        y_train = y_train[:, np.newaxis]\n",
    "        self.params = np.zeros((n_features, 1))\n",
    "        \n",
    "        if self.method == \"gradient descent\":\n",
    "            return self._gradient_descent(X_train, y_train, n_samples)\n",
    "        \n",
    "        elif self.method == \"sgd\":\n",
    "            return self._sgd(X_train, y_train, n_samples, n_features)\n",
    "        \n",
    "        else:\n",
    "            raise ValueError(f\"No such method: {self.method}\")\n",
    "            \n",
    "            \n",
    "    def _predict_prob(self, X_test):\n",
    "        n_samples = X_test.shape[0]\n",
    "        class_1 =  self._sigmoid(X_test @ self.params)\n",
    "        class_2 = np.array([(1 - p) for p in class_1])\n",
    "        \n",
    "        probs = np.zeros((n_samples, 2))\n",
    "        for i in range(n_samples):\n",
    "            probs[i][0] = class_1[i]\n",
    "            probs[i][1] = class_2[i]\n",
    "            \n",
    "        return probs\n",
    "            \n",
    "            \n",
    "    def _predict(self, X_test, T=0.5):\n",
    "        probs = self._predict_prob(X_test)[:, 0]\n",
    "        y_pred = np.array([1 if p > T else 0 for p in probs])\n",
    "        return y_pred"
   ]
  },
  {
   "cell_type": "code",
   "execution_count": 3,
   "metadata": {},
   "outputs": [
    {
     "data": {
      "text/plain": [
       "(569, 30)"
      ]
     },
     "execution_count": 3,
     "metadata": {},
     "output_type": "execute_result"
    }
   ],
   "source": [
    "from sklearn.datasets import load_breast_cancer\n",
    "\n",
    "breast_cancer = load_breast_cancer()\n",
    "data = breast_cancer.data\n",
    "target = breast_cancer.target\n",
    "\n",
    "data.shape"
   ]
  },
  {
   "cell_type": "code",
   "execution_count": 4,
   "metadata": {},
   "outputs": [
    {
     "name": "stdout",
     "output_type": "stream",
     "text": [
      "Train data shape: (398, 30)\n",
      "Test data shape: (171, 30)\n"
     ]
    }
   ],
   "source": [
    "from sklearn.model_selection import train_test_split\n",
    "\n",
    "X_train, X_test, y_train, y_test = train_test_split(data, target, test_size=0.3)\n",
    "print(f\"Train data shape: {X_train.shape}\")\n",
    "print(f\"Test data shape: {X_test.shape}\")"
   ]
  },
  {
   "cell_type": "code",
   "execution_count": 5,
   "metadata": {},
   "outputs": [],
   "source": [
    "from sklearn.preprocessing import StandardScaler\n",
    "\n",
    "scaler = StandardScaler()\n",
    "X_train_transformed = scaler.fit_transform(X_train)\n",
    "X_test_transformed = scaler.transform(X_test)"
   ]
  },
  {
   "cell_type": "code",
   "execution_count": 6,
   "metadata": {},
   "outputs": [
    {
     "name": "stdout",
     "output_type": "stream",
     "text": [
      "Train data shape: (398, 31)\n",
      "Test data shape: (171, 31)\n"
     ]
    }
   ],
   "source": [
    "X_train_transformed_ones = np.hstack((np.ones((X_train.shape[0], 1)), X_train_transformed))\n",
    "X_test_transformed_ones = np.hstack((np.ones((X_test.shape[0], 1)), X_test_transformed))\n",
    "\n",
    "print(f\"Train data shape: {X_train_transformed_ones.shape}\")\n",
    "print(f\"Test data shape: {X_test_transformed_ones.shape}\")"
   ]
  },
  {
   "cell_type": "code",
   "execution_count": 7,
   "metadata": {},
   "outputs": [],
   "source": [
    "from sklearn.metrics import accuracy_score"
   ]
  },
  {
   "cell_type": "code",
   "execution_count": 8,
   "metadata": {},
   "outputs": [
    {
     "name": "stdout",
     "output_type": "stream",
     "text": [
      "Accuracy of custom model: 0.9707602339181286\n",
      "Wall time: 2.04 s\n"
     ]
    }
   ],
   "source": [
    "%%time\n",
    "\n",
    "_lr_custom = _LogisticRegression(max_iters=1e4)\n",
    "_lr_custom._fit(X_train_transformed_ones, y_train)\n",
    "y_pred_custom = _lr_custom._predict(X_test_transformed_ones)\n",
    "accuracy_custom = accuracy_score(y_pred_custom, y_test)\n",
    "\n",
    "print(f\"Accuracy of custom model: {accuracy_custom}\")"
   ]
  },
  {
   "cell_type": "code",
   "execution_count": 9,
   "metadata": {},
   "outputs": [
    {
     "name": "stdout",
     "output_type": "stream",
     "text": [
      "Number of iterations: 10000\n"
     ]
    }
   ],
   "source": [
    "import matplotlib.pyplot as plt\n",
    "\n",
    "iterations = range(_lr_custom.iters)\n",
    "errors = _lr_custom.errors\n",
    "print(f\"Number of iterations: {_lr_custom.iters}\")\n",
    "\n",
    "plt.plot(iterations, errors)\n",
    "plt.xlabel(\"Iterations\")\n",
    "plt.ylabel(\"Log-loss\")\n",
    "plt.title(\"Error on each iteration for custom model\");"
   ]
  },
  {
   "cell_type": "code",
   "execution_count": 13,
   "metadata": {},
   "outputs": [
    {
     "name": "stdout",
     "output_type": "stream",
     "text": [
      "Accuracy of sklearn model: 0.9707602339181286\n",
      "Wall time: 6.43 ms\n"
     ]
    }
   ],
   "source": [
    "%%time\n",
    "\n",
    "from sklearn.linear_model import LogisticRegression\n",
    "\n",
    "y_pred_sklearn = LogisticRegression().fit(X_train_transformed, y_train).predict(X_test_transformed)\n",
    "accuracy_sklearn = accuracy_score(y_pred_sklearn, y_test)\n",
    "\n",
    "print(f\"Accuracy of sklearn model: {accuracy_sklearn}\")"
   ]
  },
  {
   "cell_type": "markdown",
   "metadata": {},
   "source": [
    "### Testing SGD"
   ]
  },
  {
   "cell_type": "code",
   "execution_count": 14,
   "metadata": {},
   "outputs": [
    {
     "name": "stdout",
     "output_type": "stream",
     "text": [
      "Accuracy of custom SGD: 0.935672514619883\n",
      "Wall time: 148 ms\n"
     ]
    }
   ],
   "source": [
    "%%time\n",
    "\n",
    "_sgd_custom = _LogisticRegression(max_iters=1e3, max_weight_dist=1e-5, method=\"sgd\")\n",
    "_sgd_custom._fit(X_train_transformed_ones, y_train)\n",
    "y_pred_custom = _sgd_custom._predict(X_test_transformed_ones)\n",
    "accuracy_custom = accuracy_score(y_test, y_pred_custom)\n",
    "\n",
    "print(f\"Accuracy of custom SGD: {accuracy_custom}\")"
   ]
  },
  {
   "cell_type": "code",
   "execution_count": 15,
   "metadata": {},
   "outputs": [
    {
     "name": "stdout",
     "output_type": "stream",
     "text": [
      "Number of iterations: 1000\n"
     ]
    },
    {
     "data": {
      "image/png": "[encoded data removed]",
      "text/plain": [
       "<Figure size 432x288 with 1 Axes>"
      ]
     },
     "metadata": {
      "needs_background": "light"
     },
     "output_type": "display_data"
    }
   ],
   "source": [
    "iterations = range(_sgd_custom.iters)\n",
    "errors = _sgd_custom.errors\n",
    "print(f\"Number of iterations: {_sgd_custom.iters}\")\n",
    "\n",
    "plt.plot(iterations, errors)\n",
    "plt.xlabel(\"Iterations\")\n",
    "plt.ylabel(\"Log-loss\")\n",
    "plt.title(\"Error on each iteration for custom SGD model\");"
   ]
  },
  {
   "cell_type": "code",
   "execution_count": 16,
   "metadata": {},
   "outputs": [
    {
     "name": "stdout",
     "output_type": "stream",
     "text": [
      "Accuracy of sklearn SGD: 0.9649122807017544\n",
      "Wall time: 11.3 ms\n"
     ]
    }
   ],
   "source": [
    "%%time\n",
    "\n",
    "from sklearn.linear_model import SGDClassifier\n",
    "\n",
    "y_pred_sklearn = SGDClassifier().fit(X_train_transformed, y_train).predict(X_test_transformed)\n",
    "accuracy_sklearn = accuracy_score(y_pred_sklearn, y_test)\n",
    "\n",
    "print(f\"Accuracy of sklearn SGD: {accuracy_sklearn}\")"
   ]
  },
  {
   "cell_type": "code",
   "execution_count": null,
   "metadata": {},
   "outputs": [],
   "source": []
  }
 ],
 "metadata": {
  "kernelspec": {
   "display_name": "Python 3",
   "language": "python",
   "name": "python3"
  },
  "language_info": {
   "codemirror_mode": {
    "name": "ipython",
    "version": 3
   },
   "file_extension": ".py",
   "mimetype": "text/x-python",
   "name": "python",
   "nbconvert_exporter": "python",
   "pygments_lexer": "ipython3",
   "version": "3.7.3"
  }
 },
 "nbformat": 4,
 "nbformat_minor": 2
}
